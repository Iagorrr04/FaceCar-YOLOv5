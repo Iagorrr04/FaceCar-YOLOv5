{
  "nbformat": 4,
  "nbformat_minor": 0,
  "metadata": {
    "colab": {
      "name": "datasetContribution.ipynb",
      "provenance": [],
      "authorship_tag": "ABX9TyNyrLKoYGs8xu3zsPPuyMWs",
      "include_colab_link": true
    },
    "kernelspec": {
      "name": "python3",
      "display_name": "Python 3"
    },
    "language_info": {
      "name": "python"
    }
  },
  "cells": [
    {
      "cell_type": "markdown",
      "metadata": {
        "id": "view-in-github",
        "colab_type": "text"
      },
      "source": [
        "<a href=\"https://colab.research.google.com/github/Iagorrr04/FaceCar-YOLOv5/blob/master/datasetContribution.ipynb\" target=\"_parent\"><img src=\"https://colab.research.google.com/assets/colab-badge.svg\" alt=\"Open In Colab\"/></a>"
      ]
    },
    {
      "cell_type": "code",
      "source": [
        "from IPython.display import display, Javascript\n",
        "from google.colab.output import eval_js\n",
        "from base64 import b64decode\n",
        "\n",
        "def take_photo(filename='photo.jpg', quality=0.8):\n",
        "  js = Javascript('''\n",
        "    async function takePhoto(quality) {\n",
        "      const div = document.createElement('div');\n",
        "      const capture = document.createElement('button');\n",
        "      capture.textContent = 'Capture';\n",
        "      div.appendChild(capture);\n",
        "\n",
        "      const video = document.createElement('video');\n",
        "      video.style.display = 'block';\n",
        "      const stream = await navigator.mediaDevices.getUserMedia({video: true});\n",
        "\n",
        "      document.body.appendChild(div);\n",
        "      div.appendChild(video);\n",
        "      video.srcObject = stream;\n",
        "      await video.play();\n",
        "\n",
        "      // Resize the output to fit the video element.\n",
        "      google.colab.output.setIframeHeight(document.documentElement.scrollHeight, true);\n",
        "\n",
        "      // Wait for Capture to be clicked.\n",
        "      await new Promise((resolve) => capture.onclick = resolve);\n",
        "\n",
        "      const canvas = document.createElement('canvas');\n",
        "      canvas.width = video.videoWidth;\n",
        "      canvas.height = video.videoHeight;\n",
        "      canvas.getContext('2d').drawImage(video, 0, 0);\n",
        "      stream.getVideoTracks()[0].stop();\n",
        "      div.remove();\n",
        "      return canvas.toDataURL('image/jpeg', quality);\n",
        "    }\n",
        "    ''')\n",
        "  display(js)\n",
        "  data = eval_js('takePhoto({})'.format(quality))\n",
        "  binary = b64decode(data.split(',')[1])\n",
        "  with open(filename, 'wb') as f:\n",
        "    f.write(binary)\n",
        "  return filename"
      ],
      "metadata": {
        "id": "U1a0tq4yyc1A"
      },
      "execution_count": null,
      "outputs": []
    },
    {
      "cell_type": "code",
      "source": [
        "from IPython.display import Image\n",
        "try:\n",
        "  filename = take_photo()\n",
        "  print('Saved to {}'.format(filename))\n",
        "  \n",
        "  # Show the image which was just taken.\n",
        "  display(Image(filename))\n",
        "except Exception as err:\n",
        "  # Errors will be thrown if the user does not have a webcam or if they do not\n",
        "  # grant the page permission to access it.\n",
        "  print(str(err))"
      ],
      "metadata": {
        "id": "v1D_qnCcyc1L"
      },
      "execution_count": null,
      "outputs": []
    },
    {
      "cell_type": "code",
      "source": [
        "# Roboflow requirements for upload with API\n",
        "!pip install requests pillow requests-toolbelt"
      ],
      "metadata": {
        "id": "XVtAt9UvyvL7"
      },
      "execution_count": null,
      "outputs": []
    },
    {
      "cell_type": "code",
      "source": [
        "import requests\n",
        "import base64\n",
        "import io\n",
        "from PIL import Image\n",
        "from requests_toolbelt.multipart.encoder import MultipartEncoder\n",
        "\n",
        "# Load Image with PIL\n",
        "image = Image.open(\"photo.jpg\").convert(\"RGB\")\n",
        "\n",
        "# Convert to JPEG Buffer\n",
        "buffered = io.BytesIO()\n",
        "image.save(buffered, quality=90, format=\"JPEG\")\n",
        "\n",
        "# Construct the URL\n",
        "upload_url = \"\".join([\n",
        "    \"https://api.roboflow.com/dataset/facecar/upload\",\n",
        "    \"?api_key=3IcxMfcmCpPkfVfKghby\"\n",
        "])\n",
        "\n",
        "m = MultipartEncoder(fields={'file': (\"photo.jpg\", buffered.getvalue(), \"image/jpeg\")})\n",
        "r = requests.post(upload_url, data=m, headers={'Content-Type': m.content_type})\n",
        "\n",
        "# Output result\n",
        "print(r.json())"
      ],
      "metadata": {
        "id": "K94BxvJ1y0o0"
      },
      "execution_count": null,
      "outputs": []
    }
  ]
}