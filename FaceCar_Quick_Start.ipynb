{
  "nbformat": 4,
  "nbformat_minor": 0,
  "metadata": {
    "colab": {
      "name": "FaceCar-Quick Start.ipynb",
      "provenance": [],
      "authorship_tag": "ABX9TyMCJLL4Vje75iIwB7iaBfGX",
      "include_colab_link": true
    },
    "kernelspec": {
      "name": "python3",
      "display_name": "Python 3"
    },
    "language_info": {
      "name": "python"
    }
  },
  "cells": [
    {
      "cell_type": "markdown",
      "metadata": {
        "id": "view-in-github",
        "colab_type": "text"
      },
      "source": [
        "<a href=\"https://colab.research.google.com/github/Iagorrr04/FaceCar-YOLOv5/blob/master/FaceCar_Quick_Start.ipynb\" target=\"_parent\"><img src=\"https://colab.research.google.com/assets/colab-badge.svg\" alt=\"Open In Colab\"/></a>"
      ]
    },
    {
      "cell_type": "code",
      "execution_count": null,
      "metadata": {
        "id": "1hx-RGf7VMLP"
      },
      "outputs": [],
      "source": [
        "# Clone our repo and install prerequisitesl\n",
        "git clone https://github.com/Iagorrr04/FaceCar-YOLOv5\n",
        "cd FaceCar-YOLOv5\n",
        "pip install -r requirements.txt\n",
        "\n",
        "# Run the algorithm !\n",
        "python3 facecar.py --img 640 --weights runs/train/exp3/weights/best.pt --source 0 --conf 0.9 --hide-conf --line-thickness 1 --max-det 10"
      ]
    }
  ]
}